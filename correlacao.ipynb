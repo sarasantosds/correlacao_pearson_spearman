{
  "nbformat": 4,
  "nbformat_minor": 0,
  "metadata": {
    "colab": {
      "provenance": [],
      "authorship_tag": "ABX9TyMR4RXnNTm+0Txe2/yTJYJG",
      "include_colab_link": true
    },
    "kernelspec": {
      "name": "python3",
      "display_name": "Python 3"
    },
    "language_info": {
      "name": "python"
    }
  },
  "cells": [
    {
      "cell_type": "markdown",
      "metadata": {
        "id": "view-in-github",
        "colab_type": "text"
      },
      "source": [
        "<a href=\"https://colab.research.google.com/github/sarasantosds/correlacao_pearson_spearman/blob/main/correlacao.ipynb\" target=\"_parent\"><img src=\"https://colab.research.google.com/assets/colab-badge.svg\" alt=\"Open In Colab\"/></a>"
      ]
    },
    {
      "cell_type": "markdown",
      "source": [
        "# Correlação\n",
        "É uma medida que indica como duas variáveis se relacionam. Ou seja, se uma aumenta, a outra tende a aumentar ou diminuir, ou se não há padrão. Não indica causalidade, apenas associação."
      ],
      "metadata": {
        "id": "qeBIV2_LuPfH"
      }
    },
    {
      "cell_type": "markdown",
      "source": [
        "## Coeficiente de Correlação de Pearson\n",
        "\n",
        "É uma medida que avalia a força e a direção da relação linear entre duas variáveis numéricas. Vai de -1 a 1:\n",
        "\n",
        "**1** é **perfeita correlação positiva** (ambas crescem juntas)\n",
        "\n",
        "**-1** é **perfeita correlação negativa** (uma cresce enquanto a outra cai)\n",
        "\n",
        "**0** é  **nenhuma correlação linear**\n",
        "\n"
      ],
      "metadata": {
        "id": "0wh-SeNvsgYZ"
      }
    },
    {
      "cell_type": "markdown",
      "source": [
        "**Dados fictícios referente a quantidade de horas estudadas e as notas nas provas**"
      ],
      "metadata": {
        "id": "kyTaRN9vv3LN"
      }
    },
    {
      "cell_type": "code",
      "execution_count": 2,
      "metadata": {
        "id": "-ov41Q86lKyW"
      },
      "outputs": [],
      "source": [
        "horas_x = [2,3,4,5,6]\n",
        "notas_y = [65,70,75,80,85]"
      ]
    },
    {
      "cell_type": "markdown",
      "source": [
        "**Fórmula da média aritmética em Python Puro**"
      ],
      "metadata": {
        "id": "tqwsMu3xwCKJ"
      }
    },
    {
      "cell_type": "code",
      "source": [
        "def media(dados):\n",
        "  soma = 0\n",
        "  media = 0\n",
        "  for x in dados:\n",
        "    soma += x\n",
        "  media = soma/len(dados)\n",
        "  return media"
      ],
      "metadata": {
        "id": "zFcMRUvvlcWF"
      },
      "execution_count": 3,
      "outputs": []
    },
    {
      "cell_type": "markdown",
      "source": [
        "**Fórmula dos desvios em Python Puro**"
      ],
      "metadata": {
        "id": "GID3YCTNwLZl"
      }
    },
    {
      "cell_type": "code",
      "source": [
        "def desvios(dados,media):\n",
        "  desvios = []\n",
        "  dif = 0\n",
        "  for x in dados:\n",
        "    dif = (x - media)\n",
        "    desvios.append(dif)\n",
        "  return desvios"
      ],
      "metadata": {
        "id": "j2rDPAVZl2aK"
      },
      "execution_count": 4,
      "outputs": []
    },
    {
      "cell_type": "markdown",
      "source": [
        "**Fórmula da covariância em Python Puro**"
      ],
      "metadata": {
        "id": "kl4adWQIwSJp"
      }
    },
    {
      "cell_type": "code",
      "source": [
        "def covariancia(desvios_x, desvios_y, tamanho):\n",
        "  soma = 0\n",
        "  cov = 0\n",
        "  for x, i in zip(desvios_x, desvios_y):\n",
        "    soma += (x * i)\n",
        "  cov = soma / (tamanho - 1)\n",
        "  return cov"
      ],
      "metadata": {
        "id": "31LUYLwWmoOY"
      },
      "execution_count": 5,
      "outputs": []
    },
    {
      "cell_type": "markdown",
      "source": [
        "**Fórmula do desvio padrão em Python Puro**"
      ],
      "metadata": {
        "id": "Um0JFM3VwYW0"
      }
    },
    {
      "cell_type": "code",
      "source": [
        "import numpy as np\n",
        "def desvio_padrao(dados, media):\n",
        "  soma = 0\n",
        "  variancia = 0\n",
        "  desvpad = 0\n",
        "  for x in dados:\n",
        "    soma += ((x - media) ** 2)\n",
        "  variancia = soma / (len(dados) - 1)\n",
        "  desvpad = np.sqrt(variancia)\n",
        "  return desvpad"
      ],
      "metadata": {
        "id": "doupyi4EnOXK"
      },
      "execution_count": 6,
      "outputs": []
    },
    {
      "cell_type": "markdown",
      "source": [
        "**Fórmula do coeficiente de correlação de Pearson em Python Puro**\n",
        "\n",
        "$$r = \\frac{\\text{cov}(X, Y)}{s_X \\times s_Y}$$"
      ],
      "metadata": {
        "id": "JzMHRxnHwks7"
      }
    },
    {
      "cell_type": "code",
      "source": [
        "def pearson(cov, desvpad_x, desvpad_y):\n",
        "  pearson = cov / (desvpad_x * desvpad_y)\n",
        "  return pearson"
      ],
      "metadata": {
        "id": "zpDNxIumotpB"
      },
      "execution_count": 7,
      "outputs": []
    },
    {
      "cell_type": "markdown",
      "source": [
        "### Resultados obtidos utilizando as funções desenvolvidas por mim"
      ],
      "metadata": {
        "id": "QtWqeDLnw9uU"
      }
    },
    {
      "cell_type": "code",
      "source": [
        "media_x, media_y = media(horas_x), media(notas_y)\n",
        "media_x, media_y"
      ],
      "metadata": {
        "colab": {
          "base_uri": "https://localhost:8080/"
        },
        "id": "ipX9MnPZpOKu",
        "outputId": "b6382740-bf67-4528-fbf2-e6cbd5a143e3"
      },
      "execution_count": 8,
      "outputs": [
        {
          "output_type": "execute_result",
          "data": {
            "text/plain": [
              "(4.0, 75.0)"
            ]
          },
          "metadata": {},
          "execution_count": 8
        }
      ]
    },
    {
      "cell_type": "code",
      "source": [
        "desvios_x, desvios_y = desvios(horas_x,media_x), desvios(notas_y, media_y)\n",
        "desvios_x, desvios_y"
      ],
      "metadata": {
        "colab": {
          "base_uri": "https://localhost:8080/"
        },
        "id": "QvjZRIBQpS0v",
        "outputId": "4eb74408-2f58-4b31-d186-19cfa45df42e"
      },
      "execution_count": 9,
      "outputs": [
        {
          "output_type": "execute_result",
          "data": {
            "text/plain": [
              "([-2.0, -1.0, 0.0, 1.0, 2.0], [-10.0, -5.0, 0.0, 5.0, 10.0])"
            ]
          },
          "metadata": {},
          "execution_count": 9
        }
      ]
    },
    {
      "cell_type": "code",
      "source": [
        "tamanho = len(horas_x)\n",
        "cov = covariancia(desvios_x, desvios_y, tamanho)\n",
        "cov"
      ],
      "metadata": {
        "colab": {
          "base_uri": "https://localhost:8080/"
        },
        "id": "bAa27opcpmG2",
        "outputId": "670d8154-290d-4f0d-d74f-ceec525afd24"
      },
      "execution_count": 10,
      "outputs": [
        {
          "output_type": "execute_result",
          "data": {
            "text/plain": [
              "12.5"
            ]
          },
          "metadata": {},
          "execution_count": 10
        }
      ]
    },
    {
      "cell_type": "code",
      "source": [
        "desvpad_x, desvpad_y = desvio_padrao(horas_x, media_x), desvio_padrao(notas_y, media_y)\n",
        "round(desvpad_x,3), round(desvpad_y,3)"
      ],
      "metadata": {
        "colab": {
          "base_uri": "https://localhost:8080/"
        },
        "id": "SVMsxSz2qUw6",
        "outputId": "8da1c5c6-b150-46d1-e538-15e84ffaf43c"
      },
      "execution_count": 11,
      "outputs": [
        {
          "output_type": "execute_result",
          "data": {
            "text/plain": [
              "(np.float64(1.581), np.float64(7.906))"
            ]
          },
          "metadata": {},
          "execution_count": 11
        }
      ]
    },
    {
      "cell_type": "code",
      "source": [
        "pearson = pearson(cov,desvpad_x, desvpad_y)\n",
        "pearson"
      ],
      "metadata": {
        "colab": {
          "base_uri": "https://localhost:8080/"
        },
        "id": "Ae5rEQkEq8QF",
        "outputId": "97bf3eb5-e0a9-4b55-861c-fa0f5c5f8392"
      },
      "execution_count": 12,
      "outputs": [
        {
          "output_type": "execute_result",
          "data": {
            "text/plain": [
              "np.float64(1.0)"
            ]
          },
          "metadata": {},
          "execution_count": 12
        }
      ]
    },
    {
      "cell_type": "markdown",
      "source": [
        "# Gráfico de Correlação de Pearson\n",
        "\n",
        "O gráfico demonstra uma correlação positiva muito forte, quase perfeita.\n",
        "\n",
        "**Relação Positiva:** É visível que o aumento nas \"Horas de estudo\" está diretamente associado a um aumento nas \"Notas na prova\". A linha geral dos pontos é ascendente.\n",
        "\n",
        "**Força Elevada:** Os pontos estão quase perfeitamente alinhados em uma linha reta. Isso sugere que o tempo de estudo é um excelente preditor da nota.\n",
        "\n",
        "**Conclusão:** Há uma associação linear e muito consistente: quem estuda mais, tira notas mais altas. Se fôssemos calcular o Coeficiente de Correlação (seja Spearman ou Pearson), ele estaria muito próximo de $+1.0$."
      ],
      "metadata": {
        "id": "yVAKZtjStHLT"
      }
    },
    {
      "cell_type": "code",
      "source": [
        "import matplotlib.pyplot as plt\n",
        "\n",
        "plt.scatter(horas_x, notas_y)\n",
        "plt.title(\"Horas de estudo x Notas\")\n",
        "plt.xlabel(\"Horas de estudo\")\n",
        "plt.ylabel(\"Notas na prova\")\n",
        "plt.show()"
      ],
      "metadata": {
        "colab": {
          "base_uri": "https://localhost:8080/",
          "height": 472
        },
        "id": "Ys6_JgrmrlST",
        "outputId": "230ce93b-ad45-43f3-e686-70100949e2b0"
      },
      "execution_count": 13,
      "outputs": [
        {
          "output_type": "display_data",
          "data": {
            "text/plain": [
              "<Figure size 640x480 with 1 Axes>"
            ],
            "image/png": "[encoded data removed]"
          },
          "metadata": {}
        }
      ]
    },
    {
      "cell_type": "markdown",
      "source": [
        "## Coeficiente de Correlação de Spearman\n",
        "\n",
        "É uma medida que avalia a força e a direção da relação monotônica (não precisa ser linear) entre duas variáveis, usando postos (rankings) em vez de valores diretos. Também vai de -1 a 1, mas é mais robusto para relações não lineares ou quando há valores extremos (outliers)."
      ],
      "metadata": {
        "id": "C_etqvFY6I80"
      }
    },
    {
      "cell_type": "markdown",
      "source": [
        "**Cada conjunto x e y possui um item e um rankeamento (posto)**"
      ],
      "metadata": {
        "id": "GE6zAiZYKttl"
      }
    },
    {
      "cell_type": "code",
      "source": [
        "x = [(1,1), (2,2), (3,3), (4,4), (5,5)]\n",
        "y = [(2,2), (1,1), (4,4), (5,5), (3,3)]"
      ],
      "metadata": {
        "id": "DXWd4ly0BcfV"
      },
      "execution_count": 55,
      "outputs": []
    },
    {
      "cell_type": "markdown",
      "source": [
        "**Criando um conjunto com os rankeamentos (postos) de cada item de x**"
      ],
      "metadata": {
        "id": "fDlKP_nGKkF5"
      }
    },
    {
      "cell_type": "code",
      "source": [
        "rank_x = []\n",
        "for _,i, in x:\n",
        "  rank_x.append(i)\n",
        "rank_x"
      ],
      "metadata": {
        "colab": {
          "base_uri": "https://localhost:8080/"
        },
        "id": "L6-PPBvICE_y",
        "outputId": "7df54ac5-c86f-43e4-d8f4-c7af44b55c36"
      },
      "execution_count": 84,
      "outputs": [
        {
          "output_type": "execute_result",
          "data": {
            "text/plain": [
              "[1, 2, 3, 4, 5]"
            ]
          },
          "metadata": {},
          "execution_count": 84
        }
      ]
    },
    {
      "cell_type": "markdown",
      "source": [
        "**Criando um conjunto com os rankeamentos (postos) de cada item de y**"
      ],
      "metadata": {
        "id": "yYL2eJWbKrof"
      }
    },
    {
      "cell_type": "code",
      "source": [
        "rank_y = []\n",
        "for _,j, in y:\n",
        "  rank_y.append(j)\n",
        "rank_y"
      ],
      "metadata": {
        "colab": {
          "base_uri": "https://localhost:8080/"
        },
        "id": "sePO0_J4Cl6B",
        "outputId": "3f9082ba-2d50-48d6-f604-68aae598a7bf"
      },
      "execution_count": 57,
      "outputs": [
        {
          "output_type": "execute_result",
          "data": {
            "text/plain": [
              "[2, 1, 4, 5, 3]"
            ]
          },
          "metadata": {},
          "execution_count": 57
        }
      ]
    },
    {
      "cell_type": "markdown",
      "source": [
        "**Calculando a diferença entre os postos de x e postos de y**"
      ],
      "metadata": {
        "id": "eQUvji1LK1h0"
      }
    },
    {
      "cell_type": "code",
      "source": [
        "dif = []\n",
        "diferenca = 0\n",
        "for i, j in zip(rank_x, rank_y):\n",
        "  diferenca = i - j\n",
        "  dif.append(diferenca)\n",
        "dif"
      ],
      "metadata": {
        "colab": {
          "base_uri": "https://localhost:8080/"
        },
        "id": "sTZVGVqwCt4o",
        "outputId": "e410fcbb-36fc-460d-e655-613de6c7b491"
      },
      "execution_count": 90,
      "outputs": [
        {
          "output_type": "execute_result",
          "data": {
            "text/plain": [
              "[-1, 1, -1, -1, 2]"
            ]
          },
          "metadata": {},
          "execution_count": 90
        }
      ]
    },
    {
      "cell_type": "markdown",
      "source": [
        "**Realizando a soma dos quadrados da diferença dos postos de x e y**"
      ],
      "metadata": {
        "id": "bKCJXiT5K69R"
      }
    },
    {
      "cell_type": "code",
      "source": [
        "soma = 0\n",
        "for d in dif:\n",
        "  soma += (d ** 2)\n",
        "soma"
      ],
      "metadata": {
        "colab": {
          "base_uri": "https://localhost:8080/"
        },
        "id": "zUE1kPnEDAc_",
        "outputId": "c2c9f4c9-7da0-4045-89f8-5ed621283918"
      },
      "execution_count": 94,
      "outputs": [
        {
          "output_type": "execute_result",
          "data": {
            "text/plain": [
              "8"
            ]
          },
          "metadata": {},
          "execution_count": 94
        }
      ]
    },
    {
      "cell_type": "markdown",
      "source": [
        "**Calculando o coeficiente de Spearman**\n",
        "$$\n",
        "\\rho = 1 - \\frac{6 \\sum d_i^2}{n(n^2 - 1)}\n",
        "$$"
      ],
      "metadata": {
        "id": "xr1EeR1ZLEL3"
      }
    },
    {
      "cell_type": "code",
      "source": [
        "tamanho = len(x)\n",
        "spearman = 0\n",
        "spearman = 1- (6 * soma )/ (tamanho * (tamanho ** 2 -1))\n",
        "spearman"
      ],
      "metadata": {
        "colab": {
          "base_uri": "https://localhost:8080/"
        },
        "id": "bsXfs1y_Da_0",
        "outputId": "92a40ba4-336d-4cde-dc61-55e3b603f842"
      },
      "execution_count": 96,
      "outputs": [
        {
          "output_type": "execute_result",
          "data": {
            "text/plain": [
              "0.6"
            ]
          },
          "metadata": {},
          "execution_count": 96
        }
      ]
    },
    {
      "cell_type": "markdown",
      "source": [
        "## Gráfico de Correlação de Spearman\n",
        "\n",
        "O gráfico e o Coeficiente de Spearman ($\\rho = 0.6$) indicam uma correlação positiva de moderada a forte.\n",
        "\n",
        "**Relação Positiva:** O valor positivo ($0.6$) significa que existe uma tendência  clara: quando o Rank de X aumenta, o Rank de Y também aumenta.\n",
        "\n",
        "**Força Moderada a Forte:** O valor está longe de zero, mostrando que a associação é significativa. Os pontos estão dispersos (não formam uma linha reta perfeita), o que impede que o coeficiente seja 1.0 (perfeita), mas a relação ainda é forte.\n",
        "\n",
        "**Conclusão:** Há um bom acompanhamento monotônico entre as duas variáveis; elas geralmente se movem na mesma direção."
      ],
      "metadata": {
        "id": "sawaAOCvPlAQ"
      }
    },
    {
      "cell_type": "code",
      "source": [
        "plt.scatter(rank_x, rank_y)\n",
        "plt.title(\"Coeficiente de Spearman\")\n",
        "plt.xlabel(\"Rank de X\")\n",
        "plt.ylabel(\"Rank de Y\")\n",
        "plt.show()"
      ],
      "metadata": {
        "colab": {
          "base_uri": "https://localhost:8080/",
          "height": 472
        },
        "id": "0acFN61fF-8o",
        "outputId": "3c0c9a18-cf84-46ab-b288-5ab89159326b"
      },
      "execution_count": 83,
      "outputs": [
        {
          "output_type": "display_data",
          "data": {
            "text/plain": [
              "<Figure size 640x480 with 1 Axes>"
            ],
            "image/png": "[encoded data removed]"
          },
          "metadata": {}
        }
      ]
    }
  ]
}